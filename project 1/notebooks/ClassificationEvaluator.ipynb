{
 "cells": [
  {
   "cell_type": "code",
   "execution_count": 1,
   "id": "1901be0d",
   "metadata": {},
   "outputs": [],
   "source": [
    "from typing import List"
   ]
  },
  {
   "cell_type": "code",
   "execution_count": 2,
   "id": "e1308299",
   "metadata": {},
   "outputs": [],
   "source": [
    "class ClassificationEvaluator:\n",
    "    \"\"\"\n",
    "    Class wrapping implementations of functions \n",
    "    evaluating classification performance\n",
    "    \"\"\"\n",
    "    def __evaluate(self,y_true:List,y_pred:List):\n",
    "        \"\"\"\n",
    "        True positive - actual = 1, predicted = 1\n",
    "        False positive - actual = 1, predicted = 0\n",
    "        False negative - actual = 0, predicted = 1\n",
    "        True negative - actual = 0, predicted = 0\n",
    "        \"\"\"\n",
    "        y_true=pd.Series(y_true).astype(int)\n",
    "        y_pred=pd.Series(y_pred).astype(int)\n",
    "        \n",
    "        tp = sum((y_true==1) & (y_pred==1))\n",
    "        tn = sum((y_true==0) & (y_pred==0))\n",
    "        fn = sum((y_true==1) & (y_pred==0))\n",
    "        fp = sum((y_true==0) & (y_pred==1))\n",
    "        return tp, tn, fp, fn\n",
    "    \n",
    "    def accuracy(self,y_true:List,y_pred:List)->float:\n",
    "        \"\"\"Accuracy = (TP+TN) / (FP+FN+TP+TN) \"\"\"\n",
    "        tp,tn,fp,fn = self.__evaluate(y_true,y_pred)\n",
    "        return (tp + tn)/float(tp+tn+fn+fp)\n",
    "    \n",
    "    \n",
    "    def precision(self,y_true:List,y_pred:List)->float:\n",
    "        \"\"\" Precision = TP/(FP+TP) \"\"\"\n",
    "        tp,tn,fp,fn = self.__evaluate(y_true,y_pred)\n",
    "        try:\n",
    "            precision = (tp)/float(fp+tp)\n",
    "        except:\n",
    "            print(\"An exception occurred\")\n",
    "            precision = (tp)/float(fp+tp+0.00001)\n",
    "        return precision\n",
    "    \n",
    "    def recall(self,y_true:List,y_pred:List)->float:\n",
    "        \"\"\" Recall = TP/(FN+TP)\"\"\"\n",
    "        tp,tn,fp,fn = self.__evaluate(y_true,y_pred)\n",
    "        try:\n",
    "            recall = (tp)/float(fn+tp)\n",
    "        except:\n",
    "            print(\"An exception occurred\")\n",
    "            recall = (tp)/float(fn+tp+0.00001)\n",
    "        return recall\n",
    "    \n",
    "    def f1_score(self,y_true:List,y_pred:List)->float:\n",
    "        \"\"\"\n",
    "        F1=2*(precision*recall)/(precision+recall)\n",
    "        \"\"\"\n",
    "        tp,tn,fp,fn = self.__evaluate(y_true,y_pred)\n",
    "        precision=self.precision(y_true,y_pred)\n",
    "        recall=self.recall(y_true,y_pred)\n",
    "        try:\n",
    "            f1_score = (2*precision*recall)/(precision+recall)\n",
    "        except:\n",
    "            print(\"An exception occurred\")\n",
    "            f1_score = (2*precision*recall)/(precision+recall+0.00001)\n",
    "        return f1_score\n",
    "    \n",
    "    def calculate_all(self,y_true:List,y_pred:List)->List:\n",
    "        accuracy=self.accuracy(y_true,y_pred)\n",
    "        precision=self.precision(y_true,y_pred)\n",
    "        recall=self.recall(y_true,y_pred)\n",
    "        f1_score=self.f1_score(y_true,y_pred)\n",
    "        return [accuracy, precision, recall, f1_score]\n",
    "\n"
   ]
  },
  {
   "cell_type": "markdown",
   "id": "f43acdd4",
   "metadata": {},
   "source": [
    "## Test"
   ]
  },
  {
   "cell_type": "code",
   "execution_count": 3,
   "id": "bd82026e",
   "metadata": {},
   "outputs": [],
   "source": [
    "from sklearn.metrics import accuracy_score\n",
    "from sklearn.metrics import precision_score\n",
    "from sklearn.metrics import recall_score\n",
    "from sklearn.metrics import f1_score\n",
    "\n",
    "import pandas as pd\n",
    "from IPython.display import Markdown, display"
   ]
  },
  {
   "cell_type": "code",
   "execution_count": 4,
   "id": "fbcc63e4",
   "metadata": {},
   "outputs": [],
   "source": [
    "y_true = [1, 0, 0, 1, 1]\n",
    "y_pred = [1, 1, 1, 1, 1]"
   ]
  },
  {
   "cell_type": "code",
   "execution_count": 5,
   "id": "19c30b79",
   "metadata": {},
   "outputs": [
    {
     "data": {
      "text/markdown": [
       "## Metrics implementation tests"
      ],
      "text/plain": [
       "<IPython.core.display.Markdown object>"
      ]
     },
     "metadata": {},
     "output_type": "display_data"
    },
    {
     "data": {
      "text/markdown": [
       "### Accuracy"
      ],
      "text/plain": [
       "<IPython.core.display.Markdown object>"
      ]
     },
     "metadata": {},
     "output_type": "display_data"
    },
    {
     "data": {
      "text/markdown": [
       "ClassificationEvaluator class instance accuracy score: 0.6\n",
       ",sklearn method result: 0.6"
      ],
      "text/plain": [
       "<IPython.core.display.Markdown object>"
      ]
     },
     "metadata": {},
     "output_type": "display_data"
    },
    {
     "data": {
      "text/markdown": [
       "ClassificationEvaluator class instance accuracy score: 0.6\n",
       ",sklearn method result: 0.6"
      ],
      "text/plain": [
       "<IPython.core.display.Markdown object>"
      ]
     },
     "metadata": {},
     "output_type": "display_data"
    },
    {
     "data": {
      "text/markdown": [
       "### Precision"
      ],
      "text/plain": [
       "<IPython.core.display.Markdown object>"
      ]
     },
     "metadata": {},
     "output_type": "display_data"
    },
    {
     "data": {
      "text/markdown": [
       "ClassificationEvaluator class instance precision score: 0.6\n",
       ",sklearn method result: 0.6"
      ],
      "text/plain": [
       "<IPython.core.display.Markdown object>"
      ]
     },
     "metadata": {},
     "output_type": "display_data"
    },
    {
     "data": {
      "text/markdown": [
       "ClassificationEvaluator class instance precision score: 0.6\n",
       ",sklearn method result: 0.6"
      ],
      "text/plain": [
       "<IPython.core.display.Markdown object>"
      ]
     },
     "metadata": {},
     "output_type": "display_data"
    },
    {
     "data": {
      "text/markdown": [
       "### Recall"
      ],
      "text/plain": [
       "<IPython.core.display.Markdown object>"
      ]
     },
     "metadata": {},
     "output_type": "display_data"
    },
    {
     "data": {
      "text/markdown": [
       "ClassificationEvaluator class instance recall score: 1.0\n",
       ",sklearn method result: 1.0"
      ],
      "text/plain": [
       "<IPython.core.display.Markdown object>"
      ]
     },
     "metadata": {},
     "output_type": "display_data"
    },
    {
     "data": {
      "text/markdown": [
       "ClassificationEvaluator class instance recall score: 1.0\n",
       ",sklearn method result: 1.0"
      ],
      "text/plain": [
       "<IPython.core.display.Markdown object>"
      ]
     },
     "metadata": {},
     "output_type": "display_data"
    },
    {
     "data": {
      "text/markdown": [
       "### F1 score"
      ],
      "text/plain": [
       "<IPython.core.display.Markdown object>"
      ]
     },
     "metadata": {},
     "output_type": "display_data"
    },
    {
     "data": {
      "text/markdown": [
       "ClassificationEvaluator class instance precision score: 0.7499999999999999\n",
       ",sklearn method result: 0.7499999999999999"
      ],
      "text/plain": [
       "<IPython.core.display.Markdown object>"
      ]
     },
     "metadata": {},
     "output_type": "display_data"
    },
    {
     "data": {
      "text/markdown": [
       "ClassificationEvaluator class instance precision score: 0.7499999999999999\n",
       ",sklearn method result: 0.7499999999999999"
      ],
      "text/plain": [
       "<IPython.core.display.Markdown object>"
      ]
     },
     "metadata": {},
     "output_type": "display_data"
    }
   ],
   "source": [
    "display(Markdown(\"## Metrics implementation tests\"))\n",
    "evaluator=ClassificationEvaluator()\n",
    "\n",
    "display(Markdown(\"### Accuracy\"))\n",
    "display(Markdown(f\"ClassificationEvaluator class instance accuracy score: {evaluator.accuracy(y_true, y_pred)}\\n,sklearn method result: {accuracy_score(y_true, y_pred)}\"))\n",
    "display(Markdown(f\"ClassificationEvaluator class instance accuracy score: {evaluator.accuracy(y_true, y_pred)}\\n,sklearn method result: {accuracy_score(y_true, y_pred)}\"))\n",
    "\n",
    "display(Markdown(\"### Precision\"))\n",
    "display(Markdown(f\"ClassificationEvaluator class instance precision score: {evaluator.precision(y_true, y_pred)}\\n,sklearn method result: {precision_score(y_true, y_pred)}\"))\n",
    "display(Markdown(f\"ClassificationEvaluator class instance precision score: {evaluator.precision(y_true, y_pred)}\\n,sklearn method result: {precision_score(y_true, y_pred)}\"))\n",
    "\n",
    "display(Markdown(\"### Recall\"))\n",
    "display(Markdown(f\"ClassificationEvaluator class instance recall score: {evaluator.recall(y_true, y_pred)}\\n,sklearn method result: {recall_score(y_true, y_pred)}\"))\n",
    "display(Markdown(f\"ClassificationEvaluator class instance recall score: {evaluator.recall(y_true, y_pred)}\\n,sklearn method result: {recall_score(y_true, y_pred)}\"))\n",
    "\n",
    "display(Markdown(\"### F1 score\"))\n",
    "display(Markdown(f\"ClassificationEvaluator class instance precision score: {evaluator.f1_score(y_true, y_pred)}\\n,sklearn method result: {f1_score(y_true, y_pred)}\"))\n",
    "display(Markdown(f\"ClassificationEvaluator class instance precision score: {evaluator.f1_score(y_true, y_pred)}\\n,sklearn method result: {f1_score(y_true, y_pred)}\"))"
   ]
  }
 ],
 "metadata": {
  "kernelspec": {
   "display_name": "Python 3 (ipykernel)",
   "language": "python",
   "name": "python3"
  },
  "language_info": {
   "codemirror_mode": {
    "name": "ipython",
    "version": 3
   },
   "file_extension": ".py",
   "mimetype": "text/x-python",
   "name": "python",
   "nbconvert_exporter": "python",
   "pygments_lexer": "ipython3",
   "version": "3.9.7"
  }
 },
 "nbformat": 4,
 "nbformat_minor": 5
}
