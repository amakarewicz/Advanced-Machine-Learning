{
 "cells": [
  {
   "cell_type": "code",
   "execution_count": 1,
   "id": "48eccfa6",
   "metadata": {},
   "outputs": [],
   "source": [
    "from typing import List"
   ]
  },
  {
   "cell_type": "code",
   "execution_count": 2,
   "id": "813ec67d",
   "metadata": {},
   "outputs": [],
   "source": [
    "class ClassificationEvaluator:\n",
    "    \n",
    "    def __evaluate(self,y_true:List,y_pred:List):\n",
    "        \"\"\"\n",
    "        True positive - actual = 1, predicted = 1\n",
    "        False positive - actual = 1, predicted = 0\n",
    "        False negative - actual = 0, predicted = 1\n",
    "        True negative - actual = 0, predicted = 0\n",
    "        \"\"\"\n",
    "        y_true=pd.Series(y_true).astype(int)\n",
    "        y_pred=pd.Series(y_pred).astype(int)\n",
    "        \n",
    "        tp = sum((y_true==1) & (y_pred==1))\n",
    "        tn = sum((y_true==0) & (y_pred==0))\n",
    "        fn = sum((y_true==1) & (y_pred==0))\n",
    "        fp = sum((y_true==0) & (y_pred==1))\n",
    "        return tp, tn, fp, fn\n",
    "    \n",
    "    def accuracy(self,y_true:List,y_pred:List):\n",
    "        \"\"\"Accuracy = (TP+TN) / (FP+FN+TP+TN) \"\"\"\n",
    "        tp,tn,fp,fn = self.__evaluate(y_true,y_pred)\n",
    "        return (tp + tn)/float(tp+tn+fn+fp)\n",
    "    \n",
    "    \n",
    "    def precision(self,y_true:List,y_pred:List):\n",
    "        \"\"\" Precision = TP/(FP+TP) \"\"\"\n",
    "        tp,tn,fp,fn = self.__evaluate(y_true,y_pred)\n",
    "        return (tp)/float(fp+tp)\n",
    "    \n",
    "    def recall(self,y_true:List,y_pred:List):\n",
    "        \"\"\" Recall = TP/(FN+TP)\"\"\"\n",
    "        tp,tn,fp,fn = self.__evaluate(y_true,y_pred)\n",
    "        return (tp)/float(fn+tp)\n",
    "    \n",
    "    def f1_score(self,y_true:List,y_pred:List):\n",
    "        \"\"\"\n",
    "        F1=2*(precision*recall)/(precision+recall)\n",
    "        \"\"\"\n",
    "        tp,tn,fp,fn = self.__evaluate(y_true,y_pred)\n",
    "        precision=self.precision(y_true,y_pred)\n",
    "        recall=self.recall(y_true,y_pred)\n",
    "        f1_score = (2*precision*recall)/(precision+recall)\n",
    "        return f1_score"
   ]
  },
  {
   "cell_type": "markdown",
   "id": "8285a520",
   "metadata": {},
   "source": [
    "## Test"
   ]
  },
  {
   "cell_type": "code",
   "execution_count": 3,
   "id": "23713e22",
   "metadata": {},
   "outputs": [],
   "source": [
    "from sklearn.metrics import accuracy_score\n",
    "from sklearn.metrics import precision_score\n",
    "from sklearn.metrics import recall_score\n",
    "from sklearn.metrics import f1_score\n",
    "\n",
    "import pandas as pd\n",
    "from IPython.display import Markdown, display"
   ]
  },
  {
   "cell_type": "code",
   "execution_count": 4,
   "id": "e8f82a93",
   "metadata": {},
   "outputs": [],
   "source": [
    "y_true = [1, 0, 0, 1, 1]\n",
    "y_pred = [1, 1, 1, 1, 1]"
   ]
  },
  {
   "cell_type": "code",
   "execution_count": 5,
   "id": "c4ace84d",
   "metadata": {},
   "outputs": [
    {
     "data": {
      "text/markdown": [
       "## Metrics implementation tests"
      ],
      "text/plain": [
       "<IPython.core.display.Markdown object>"
      ]
     },
     "metadata": {},
     "output_type": "display_data"
    },
    {
     "data": {
      "text/markdown": [
       "### Accuracy"
      ],
      "text/plain": [
       "<IPython.core.display.Markdown object>"
      ]
     },
     "metadata": {},
     "output_type": "display_data"
    },
    {
     "data": {
      "text/markdown": [
       "ClassificationEvaluator class instance accuracy score: 0.6\n",
       ",sklearn method result: 0.6"
      ],
      "text/plain": [
       "<IPython.core.display.Markdown object>"
      ]
     },
     "metadata": {},
     "output_type": "display_data"
    },
    {
     "data": {
      "text/markdown": [
       "ClassificationEvaluator class instance accuracy score: 0.6\n",
       ",sklearn method result: 0.6"
      ],
      "text/plain": [
       "<IPython.core.display.Markdown object>"
      ]
     },
     "metadata": {},
     "output_type": "display_data"
    },
    {
     "data": {
      "text/markdown": [
       "### Precision"
      ],
      "text/plain": [
       "<IPython.core.display.Markdown object>"
      ]
     },
     "metadata": {},
     "output_type": "display_data"
    },
    {
     "data": {
      "text/markdown": [
       "ClassificationEvaluator class instance precision score: 0.6\n",
       ",sklearn method result: 0.6"
      ],
      "text/plain": [
       "<IPython.core.display.Markdown object>"
      ]
     },
     "metadata": {},
     "output_type": "display_data"
    },
    {
     "data": {
      "text/markdown": [
       "ClassificationEvaluator class instance precision score: 0.6\n",
       ",sklearn method result: 0.6"
      ],
      "text/plain": [
       "<IPython.core.display.Markdown object>"
      ]
     },
     "metadata": {},
     "output_type": "display_data"
    },
    {
     "data": {
      "text/markdown": [
       "### Recall"
      ],
      "text/plain": [
       "<IPython.core.display.Markdown object>"
      ]
     },
     "metadata": {},
     "output_type": "display_data"
    },
    {
     "data": {
      "text/markdown": [
       "ClassificationEvaluator class instance recall score: 1.0\n",
       ",sklearn method result: 1.0"
      ],
      "text/plain": [
       "<IPython.core.display.Markdown object>"
      ]
     },
     "metadata": {},
     "output_type": "display_data"
    },
    {
     "data": {
      "text/markdown": [
       "ClassificationEvaluator class instance recall score: 1.0\n",
       ",sklearn method result: 1.0"
      ],
      "text/plain": [
       "<IPython.core.display.Markdown object>"
      ]
     },
     "metadata": {},
     "output_type": "display_data"
    },
    {
     "data": {
      "text/markdown": [
       "### F1 score"
      ],
      "text/plain": [
       "<IPython.core.display.Markdown object>"
      ]
     },
     "metadata": {},
     "output_type": "display_data"
    },
    {
     "data": {
      "text/markdown": [
       "ClassificationEvaluator class instance precision score: 0.7499999999999999\n",
       ",sklearn method result: 0.7499999999999999"
      ],
      "text/plain": [
       "<IPython.core.display.Markdown object>"
      ]
     },
     "metadata": {},
     "output_type": "display_data"
    },
    {
     "data": {
      "text/markdown": [
       "ClassificationEvaluator class instance precision score: 0.7499999999999999\n",
       ",sklearn method result: 0.7499999999999999"
      ],
      "text/plain": [
       "<IPython.core.display.Markdown object>"
      ]
     },
     "metadata": {},
     "output_type": "display_data"
    }
   ],
   "source": [
    "display(Markdown(\"## Metrics implementation tests\"))\n",
    "evaluator=ClassificationEvaluator()\n",
    "\n",
    "display(Markdown(\"### Accuracy\"))\n",
    "display(Markdown(f\"ClassificationEvaluator class instance accuracy score: {evaluator.accuracy(y_true, y_pred)}\\n,sklearn method result: {accuracy_score(y_true, y_pred)}\"))\n",
    "display(Markdown(f\"ClassificationEvaluator class instance accuracy score: {evaluator.accuracy(y_true, y_pred)}\\n,sklearn method result: {accuracy_score(y_true, y_pred)}\"))\n",
    "\n",
    "display(Markdown(\"### Precision\"))\n",
    "display(Markdown(f\"ClassificationEvaluator class instance precision score: {evaluator.precision(y_true, y_pred)}\\n,sklearn method result: {precision_score(y_true, y_pred)}\"))\n",
    "display(Markdown(f\"ClassificationEvaluator class instance precision score: {evaluator.precision(y_true, y_pred)}\\n,sklearn method result: {precision_score(y_true, y_pred)}\"))\n",
    "\n",
    "display(Markdown(\"### Recall\"))\n",
    "display(Markdown(f\"ClassificationEvaluator class instance recall score: {evaluator.recall(y_true, y_pred)}\\n,sklearn method result: {recall_score(y_true, y_pred)}\"))\n",
    "display(Markdown(f\"ClassificationEvaluator class instance recall score: {evaluator.recall(y_true, y_pred)}\\n,sklearn method result: {recall_score(y_true, y_pred)}\"))\n",
    "\n",
    "display(Markdown(\"### F1 score\"))\n",
    "display(Markdown(f\"ClassificationEvaluator class instance precision score: {evaluator.f1_score(y_true, y_pred)}\\n,sklearn method result: {f1_score(y_true, y_pred)}\"))\n",
    "display(Markdown(f\"ClassificationEvaluator class instance precision score: {evaluator.f1_score(y_true, y_pred)}\\n,sklearn method result: {f1_score(y_true, y_pred)}\"))"
   ]
  }
 ],
 "metadata": {
  "kernelspec": {
   "display_name": "Python 3 (ipykernel)",
   "language": "python",
   "name": "python3"
  },
  "language_info": {
   "codemirror_mode": {
    "name": "ipython",
    "version": 3
   },
   "file_extension": ".py",
   "mimetype": "text/x-python",
   "name": "python",
   "nbconvert_exporter": "python",
   "pygments_lexer": "ipython3",
   "version": "3.9.7"
  }
 },
 "nbformat": 4,
 "nbformat_minor": 5
}
