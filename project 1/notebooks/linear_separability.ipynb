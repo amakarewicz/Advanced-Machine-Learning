{
 "cells": [
  {
   "cell_type": "code",
   "execution_count": null,
   "id": "79846ff8",
   "metadata": {
    "ExecuteTime": {
     "end_time": "2022-03-29T18:07:58.481996Z",
     "start_time": "2022-03-29T18:07:58.476412Z"
    }
   },
   "outputs": [],
   "source": [
    "import os\n",
    "import pandas as pd\n",
    "from sklearn.svm import SVC\n",
    "from sklearn.metrics import confusion_matrix\n",
    "import matplotlib.pyplot as plt\n",
    "import numpy as np\n",
    "from sklearn.preprocessing import StandardScaler\n",
    "from sklearn.linear_model import Perceptron\n",
    "from scipy.optimize import linprog\n",
    "\n",
    "import warnings\n",
    "warnings.filterwarnings('ignore')\n",
    "from IPython.display import display, Markdown\n",
    "\n",
    "data_directory='../datasets/preprocessed'\n",
    "\n",
    "# https://www.tarekatwan.com/index.php/2017/12/methods-for-testing-linear-separability-in-python/?fbclid=IwAR3BIWrhdU0M5Bzc5mPMYuwOsxSWiNt9wk1S8S2IYAJB5T2oKbHBdvVR3Z4"
   ]
  },
  {
   "cell_type": "code",
   "execution_count": null,
   "id": "839af38f",
   "metadata": {
    "ExecuteTime": {
     "end_time": "2022-03-29T18:11:50.678696Z",
     "start_time": "2022-03-29T18:11:49.625513Z"
    }
   },
   "outputs": [],
   "source": [
    "# Data loading\n",
    "frames={}\n",
    "for filename in os.listdir(data_directory):\n",
    "    data=pd.read_csv(f\"{data_directory}/{filename}\")\n",
    "    frames[filename.split('.')[0]]=data\n",
    "    \n",
    "adult_train=pd.concat([frames['adult_train_x'], frames['adult_train_y']], axis=1)\n",
    "adult_test=pd.concat([frames['adult_test_x'], frames['adult_test_y']], axis=1)\n",
    "adult=pd.concat([adult_train, adult_test], axis=0)\n",
    "credit_train=pd.concat([frames['credit_train_x'], frames['credit_train_y']], axis=1)\n",
    "credit_test=pd.concat([frames['credit_test_x'], frames['credit_test_y']], axis=1)\n",
    "credit=pd.concat([credit_train, credit_test], axis=0)\n",
    "sick_train=pd.concat([frames['sick_train_x'], frames['sick_train_y']], axis=1)\n",
    "sick_test=pd.concat([frames['sick_test_x'], frames['sick_test_y']], axis=1)\n",
    "sick=pd.concat([sick_train, sick_test], axis=0)\n",
    "titanic_train=pd.concat([frames['titanic_train_x'], frames['titanic_train_y']], axis=1)\n",
    "titanic_test=pd.concat([frames['titanic_test_x'], frames['titanic_test_y']], axis=1)\n",
    "titanic=pd.concat([titanic_train, titanic_test], axis=0)\n",
    "\n",
    "adult_X=adult.drop(columns=['target'])\n",
    "adult_y=adult[['target']]\n",
    "credit_X=credit.drop(columns=['target'])\n",
    "credit_y=credit[['target']]\n",
    "sick_X=sick.drop(columns=['target'])\n",
    "sick_y=sick[['target']]\n",
    "titanic_X=titanic.drop(columns=['target'])\n",
    "titanic_y=titanic[['target']]"
   ]
  },
  {
   "cell_type": "code",
   "execution_count": null,
   "id": "d18065d7",
   "metadata": {},
   "outputs": [],
   "source": [
    "# Linear separability check\n",
    "datasets=[(credit_X, credit_y), (sick_X, sick_y), (titanic_X, titanic_y), (adult_X, adult_y)]\n",
    "datasets_names=[\"Credit\", \"Sick\", \"Titanic\", \"Adult\"]\n",
    "\n",
    "iter_num=-1\n",
    "for x, y in datasets:\n",
    "    iter_num = iter_num+1\n",
    "    df=pd.concat([x, y], axis=1)\n",
    "    display(Markdown(f'### {datasets_names[iter_num]} dataset'))\n",
    "    #Perform feature scaling\n",
    "    sc= StandardScaler()\n",
    "    x = sc.fit_transform(x)\n",
    "\n",
    "    # Perceptron\n",
    "    perceptron = Perceptron(random_state = 0)\n",
    "    perceptron.fit(x, y)\n",
    "    predicted = perceptron.predict(x)\n",
    "\n",
    "    cm = confusion_matrix(y, predicted)\n",
    "    plt.clf() \n",
    "    plt.imshow(cm, interpolation='nearest', cmap=plt.cm.Wistia)\n",
    "    classNames = ['Negative','Positive']\n",
    "    plt.title('Perceptron Confusion Matrix')\n",
    "    plt.ylabel('True label')\n",
    "    plt.xlabel('Predicted label')\n",
    "    tick_marks = np.arange(len(classNames))\n",
    "    plt.xticks(tick_marks, classNames, rotation=45)\n",
    "    plt.yticks(tick_marks, classNames)\n",
    "    s = [['TN','FP'], ['FN', 'TP']]\n",
    "\n",
    "    for i in range(2):\n",
    "        for j in range(2):\n",
    "            plt.text((j-0.15),i, str(s[i][j])+\" = \"+str(cm[i][j]))\n",
    "    plt.show()\n",
    "    \n",
    "    for i in [0,1]:\n",
    "        df[\"newTarget\"] = np.where(df['target'] == i, 1 , -1)\n",
    "\n",
    "        sc = StandardScaler()\n",
    "        tmp = df.iloc[:,[2,3]].values\n",
    "        tmp = sc.fit_transform(tmp)\n",
    "\n",
    "        xx = np.array(df.newTarget.values.reshape(-1,1) * tmp)\n",
    "        t = np.where(df['target'] == i, 1 , -1)\n",
    "\n",
    "        #2-D array which, when matrix-multiplied by x, gives the values of \n",
    "        #the upper-bound inequality constraints at x.\n",
    "        A_ub = np.append(xx, t.reshape(-1,1), 1)\n",
    "\n",
    "        #1-D array of values representing the upper-bound of each \n",
    "        #inequality constraint (row) in A_ub.\n",
    "        b_ub = np.repeat(-1, A_ub.shape[0]).reshape(-1,1)\n",
    "\n",
    "        # Coefficients of the linear objective function to be minimized.\n",
    "        c_obj = np.repeat(1, A_ub.shape[1])\n",
    "        res = linprog(c=c_obj, A_ub=A_ub, b_ub=b_ub,\n",
    "                      options={\"disp\": False})\n",
    "\n",
    "        if res.success:\n",
    "            print('There is linear separability between {} and the other class'.format(i))\n",
    "        else:\n",
    "            print('No linear separability between {} and the other class'.format(i))"
   ]
  },
  {
   "cell_type": "code",
   "execution_count": null,
   "id": "1dcdaf26",
   "metadata": {},
   "outputs": [],
   "source": []
  }
 ],
 "metadata": {
  "kernelspec": {
   "display_name": "Python 3 (ipykernel)",
   "language": "python",
   "name": "python3"
  },
  "language_info": {
   "codemirror_mode": {
    "name": "ipython",
    "version": 3
   },
   "file_extension": ".py",
   "mimetype": "text/x-python",
   "name": "python",
   "nbconvert_exporter": "python",
   "pygments_lexer": "ipython3",
   "version": "3.9.7"
  }
 },
 "nbformat": 4,
 "nbformat_minor": 5
}
