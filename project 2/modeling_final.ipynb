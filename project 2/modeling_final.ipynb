{
 "cells": [
  {
   "cell_type": "markdown",
   "id": "08ef50f8",
   "metadata": {},
   "source": [
    "## Final modeling \n",
    "\n",
    "*Best methods for each dataset and final prediction*"
   ]
  },
  {
   "cell_type": "code",
   "execution_count": 1,
   "id": "042abcb7",
   "metadata": {},
   "outputs": [],
   "source": [
    "import numpy as np\n",
    "import pandas as pd\n",
    "import matplotlib.pyplot as plt\n",
    "import seaborn as sns\n",
    "\n",
    "import sklearn\n",
    "from sklearn.feature_selection import RFE, SelectFromModel, SelectKBest, mutual_info_classif\n",
    "from sklearn.svm import LinearSVC\n",
    "from sklearn.preprocessing import StandardScaler\n",
    "from sklearn.ensemble import RandomForestClassifier\n",
    "import warnings\n",
    "warnings.filterwarnings(\"ignore\")\n",
    "\n",
    "sns.set_style('whitegrid')\n",
    "sns.set_palette('dark')\n",
    "\n",
    "rs=123"
   ]
  },
  {
   "cell_type": "markdown",
   "id": "36c1ebe2",
   "metadata": {},
   "source": [
    "### Data preparation"
   ]
  },
  {
   "cell_type": "code",
   "execution_count": 2,
   "id": "e54859d4",
   "metadata": {},
   "outputs": [],
   "source": [
    "# loading data\n",
    "\n",
    "# artificial dataset\n",
    "art_x_train = pd.read_csv('./data/artificial_train.data', sep=\" \", header=None)\n",
    "art_x_test = pd.read_csv('./data/artificial_valid.data', sep=\" \", header=None)\n",
    "art_y_train = np.array(pd.read_csv('./data/artificial_train.labels', header=None)[0].tolist())\n",
    "\n",
    "# digits dataset\n",
    "dig_x_train = pd.read_csv('./data/digits_train.data', sep=\" \", header=None)\n",
    "dig_x_test = pd.read_csv('./data/digits_valid.data', sep=\" \", header=None)\n",
    "dig_y_train = np.array(pd.read_csv('./data/digits_train.labels', header=None)[0].tolist())"
   ]
  },
  {
   "cell_type": "code",
   "execution_count": 3,
   "id": "e5e11398",
   "metadata": {},
   "outputs": [],
   "source": [
    "# dropping unnecessary NaN columns\n",
    "art_x_train.drop(columns=art_x_train.columns[-1], axis=1, inplace=True)\n",
    "art_x_test.drop(columns=art_x_test.columns[-1], axis=1, inplace=True)\n",
    "dig_x_train.drop(columns=dig_x_train.columns[-1], axis=1, inplace=True)\n",
    "dig_x_test.drop(columns=dig_x_test.columns[-1], axis=1, inplace=True)"
   ]
  },
  {
   "cell_type": "code",
   "execution_count": 4,
   "id": "2c4f1ac8",
   "metadata": {},
   "outputs": [],
   "source": [
    "# scaling - można spróbować innej metody i porównać\n",
    "std = StandardScaler()\n",
    "art_x_train_scaled = std.fit_transform(art_x_train)\n",
    "art_x_test_scaled = std.transform(art_x_test)\n",
    "\n",
    "std = StandardScaler()\n",
    "dig_x_train_scaled = std.fit_transform(dig_x_train)\n",
    "dig_x_test_scaled = std.transform(dig_x_test)"
   ]
  },
  {
   "cell_type": "markdown",
   "id": "4f0c0674",
   "metadata": {},
   "source": [
    "### Artificial dataset - best result"
   ]
  },
  {
   "cell_type": "code",
   "execution_count": 5,
   "id": "f0cd81be",
   "metadata": {},
   "outputs": [],
   "source": [
    "# select k best\n",
    "k=100"
   ]
  },
  {
   "cell_type": "code",
   "execution_count": 6,
   "id": "995b6ab6",
   "metadata": {},
   "outputs": [],
   "source": [
    "selector = SelectKBest(score_func=mutual_info_classif, k=k)\n",
    "selector.fit(art_x_train_scaled, art_y_train)\n",
    "art_x_train_kbest = selector.transform(art_x_train_scaled)\n",
    "art_x_test_kbest = selector.transform(art_x_test_scaled)"
   ]
  },
  {
   "cell_type": "code",
   "execution_count": 7,
   "id": "9e7e0261",
   "metadata": {},
   "outputs": [],
   "source": [
    "# rfe  \n",
    "n_of_features = 7 # 10 cv"
   ]
  },
  {
   "cell_type": "code",
   "execution_count": 8,
   "id": "14a20442",
   "metadata": {},
   "outputs": [],
   "source": [
    "clf = RandomForestClassifier(random_state=rs)\n",
    "rfe = RFE(clf, n_features_to_select=n_of_features)\n",
    "rfe.fit(art_x_train_kbest, art_y_train)\n",
    "art_x_train_rfe = rfe.transform(art_x_train_kbest)\n",
    "art_x_test_rfe = rfe.transform(art_x_test_kbest)"
   ]
  },
  {
   "cell_type": "code",
   "execution_count": 9,
   "id": "709be811",
   "metadata": {},
   "outputs": [],
   "source": [
    "rf = RandomForestClassifier(random_state=rs)\n",
    "rf.fit(art_x_train_rfe, art_y_train)\n",
    "y_pred = rf.predict_proba(art_x_test_rfe)"
   ]
  },
  {
   "cell_type": "code",
   "execution_count": 10,
   "id": "08f6a765",
   "metadata": {},
   "outputs": [],
   "source": [
    "features = [ int(feat.replace('x', '')) for feat in rfe.get_feature_names_out()]\n",
    "features = pd.DataFrame(pd.Series(features))\n",
    "features.columns=['AGAMAK']\n",
    "features.to_csv('AGAMAK_artificial_features.txt', sep='\\t', index=False)"
   ]
  },
  {
   "cell_type": "code",
   "execution_count": 11,
   "id": "0578a859",
   "metadata": {},
   "outputs": [],
   "source": [
    "probs = pd.DataFrame(pd.DataFrame(y_pred)[1])\n",
    "probs.columns=['AGAMAK']\n",
    "probs.to_csv('AGAMAK_artificial_prediction.txt', sep='\\t', index=False)"
   ]
  },
  {
   "cell_type": "markdown",
   "id": "1eccd616",
   "metadata": {},
   "source": [
    "### Digits dataset - best result"
   ]
  },
  {
   "cell_type": "code",
   "execution_count": 12,
   "id": "9799c6c9",
   "metadata": {},
   "outputs": [
    {
     "data": {
      "text/html": [
       "<style>#sk-container-id-1 {color: black;background-color: white;}#sk-container-id-1 pre{padding: 0;}#sk-container-id-1 div.sk-toggleable {background-color: white;}#sk-container-id-1 label.sk-toggleable__label {cursor: pointer;display: block;width: 100%;margin-bottom: 0;padding: 0.3em;box-sizing: border-box;text-align: center;}#sk-container-id-1 label.sk-toggleable__label-arrow:before {content: \"▸\";float: left;margin-right: 0.25em;color: #696969;}#sk-container-id-1 label.sk-toggleable__label-arrow:hover:before {color: black;}#sk-container-id-1 div.sk-estimator:hover label.sk-toggleable__label-arrow:before {color: black;}#sk-container-id-1 div.sk-toggleable__content {max-height: 0;max-width: 0;overflow: hidden;text-align: left;background-color: #f0f8ff;}#sk-container-id-1 div.sk-toggleable__content pre {margin: 0.2em;color: black;border-radius: 0.25em;background-color: #f0f8ff;}#sk-container-id-1 input.sk-toggleable__control:checked~div.sk-toggleable__content {max-height: 200px;max-width: 100%;overflow: auto;}#sk-container-id-1 input.sk-toggleable__control:checked~label.sk-toggleable__label-arrow:before {content: \"▾\";}#sk-container-id-1 div.sk-estimator input.sk-toggleable__control:checked~label.sk-toggleable__label {background-color: #d4ebff;}#sk-container-id-1 div.sk-label input.sk-toggleable__control:checked~label.sk-toggleable__label {background-color: #d4ebff;}#sk-container-id-1 input.sk-hidden--visually {border: 0;clip: rect(1px 1px 1px 1px);clip: rect(1px, 1px, 1px, 1px);height: 1px;margin: -1px;overflow: hidden;padding: 0;position: absolute;width: 1px;}#sk-container-id-1 div.sk-estimator {font-family: monospace;background-color: #f0f8ff;border: 1px dotted black;border-radius: 0.25em;box-sizing: border-box;margin-bottom: 0.5em;}#sk-container-id-1 div.sk-estimator:hover {background-color: #d4ebff;}#sk-container-id-1 div.sk-parallel-item::after {content: \"\";width: 100%;border-bottom: 1px solid gray;flex-grow: 1;}#sk-container-id-1 div.sk-label:hover label.sk-toggleable__label {background-color: #d4ebff;}#sk-container-id-1 div.sk-serial::before {content: \"\";position: absolute;border-left: 1px solid gray;box-sizing: border-box;top: 0;bottom: 0;left: 50%;z-index: 0;}#sk-container-id-1 div.sk-serial {display: flex;flex-direction: column;align-items: center;background-color: white;padding-right: 0.2em;padding-left: 0.2em;position: relative;}#sk-container-id-1 div.sk-item {position: relative;z-index: 1;}#sk-container-id-1 div.sk-parallel {display: flex;align-items: stretch;justify-content: center;background-color: white;position: relative;}#sk-container-id-1 div.sk-item::before, #sk-container-id-1 div.sk-parallel-item::before {content: \"\";position: absolute;border-left: 1px solid gray;box-sizing: border-box;top: 0;bottom: 0;left: 50%;z-index: -1;}#sk-container-id-1 div.sk-parallel-item {display: flex;flex-direction: column;z-index: 1;position: relative;background-color: white;}#sk-container-id-1 div.sk-parallel-item:first-child::after {align-self: flex-end;width: 50%;}#sk-container-id-1 div.sk-parallel-item:last-child::after {align-self: flex-start;width: 50%;}#sk-container-id-1 div.sk-parallel-item:only-child::after {width: 0;}#sk-container-id-1 div.sk-dashed-wrapped {border: 1px dashed gray;margin: 0 0.4em 0.5em 0.4em;box-sizing: border-box;padding-bottom: 0.4em;background-color: white;}#sk-container-id-1 div.sk-label label {font-family: monospace;font-weight: bold;display: inline-block;line-height: 1.2em;}#sk-container-id-1 div.sk-label-container {text-align: center;}#sk-container-id-1 div.sk-container {/* jupyter's `normalize.less` sets `[hidden] { display: none; }` but bootstrap.min.css set `[hidden] { display: none !important; }` so we also need the `!important` here to be able to override the default hidden behavior on the sphinx rendered scikit-learn.org. See: https://github.com/scikit-learn/scikit-learn/issues/21755 */display: inline-block !important;position: relative;}#sk-container-id-1 div.sk-text-repr-fallback {display: none;}</style><div id=\"sk-container-id-1\" class=\"sk-top-container\"><div class=\"sk-text-repr-fallback\"><pre>SelectFromModel(estimator=LinearSVC(C=0.0025, dual=False, penalty=&#x27;l1&#x27;,\n",
       "                                    random_state=123),\n",
       "                prefit=True)</pre><b>In a Jupyter environment, please rerun this cell to show the HTML representation or trust the notebook. <br />On GitHub, the HTML representation is unable to render, please try loading this page with nbviewer.org.</b></div><div class=\"sk-container\" hidden><div class=\"sk-item sk-dashed-wrapped\"><div class=\"sk-label-container\"><div class=\"sk-label sk-toggleable\"><input class=\"sk-toggleable__control sk-hidden--visually\" id=\"sk-estimator-id-1\" type=\"checkbox\" ><label for=\"sk-estimator-id-1\" class=\"sk-toggleable__label sk-toggleable__label-arrow\">SelectFromModel</label><div class=\"sk-toggleable__content\"><pre>SelectFromModel(estimator=LinearSVC(C=0.0025, dual=False, penalty=&#x27;l1&#x27;,\n",
       "                                    random_state=123),\n",
       "                prefit=True)</pre></div></div></div><div class=\"sk-parallel\"><div class=\"sk-parallel-item\"><div class=\"sk-item\"><div class=\"sk-label-container\"><div class=\"sk-label sk-toggleable\"><input class=\"sk-toggleable__control sk-hidden--visually\" id=\"sk-estimator-id-2\" type=\"checkbox\" ><label for=\"sk-estimator-id-2\" class=\"sk-toggleable__label sk-toggleable__label-arrow\">estimator: LinearSVC</label><div class=\"sk-toggleable__content\"><pre>LinearSVC(C=0.0025, dual=False, penalty=&#x27;l1&#x27;, random_state=123)</pre></div></div></div><div class=\"sk-serial\"><div class=\"sk-item\"><div class=\"sk-estimator sk-toggleable\"><input class=\"sk-toggleable__control sk-hidden--visually\" id=\"sk-estimator-id-3\" type=\"checkbox\" ><label for=\"sk-estimator-id-3\" class=\"sk-toggleable__label sk-toggleable__label-arrow\">LinearSVC</label><div class=\"sk-toggleable__content\"><pre>LinearSVC(C=0.0025, dual=False, penalty=&#x27;l1&#x27;, random_state=123)</pre></div></div></div></div></div></div></div></div></div></div>"
      ],
      "text/plain": [
       "SelectFromModel(estimator=LinearSVC(C=0.0025, dual=False, penalty='l1',\n",
       "                                    random_state=123),\n",
       "                prefit=True)"
      ]
     },
     "execution_count": 12,
     "metadata": {},
     "output_type": "execute_result"
    }
   ],
   "source": [
    "# l1\n",
    "c = 0.0025\n",
    "selector = SelectFromModel(LinearSVC(C=c, penalty=\"l1\", dual=False, random_state=rs).fit(dig_x_train_scaled, dig_y_train), prefit=True)\n",
    "selector.fit(dig_x_train_scaled, dig_y_train)"
   ]
  },
  {
   "cell_type": "code",
   "execution_count": 13,
   "id": "8fbf727a",
   "metadata": {},
   "outputs": [],
   "source": [
    "dig_x_train_l1 = selector.transform(dig_x_train_scaled)\n",
    "dig_x_test_l1 = selector.transform(dig_x_test_scaled)"
   ]
  },
  {
   "cell_type": "code",
   "execution_count": 14,
   "id": "31f468bc",
   "metadata": {},
   "outputs": [
    {
     "data": {
      "text/plain": [
       "(6000, 106)"
      ]
     },
     "execution_count": 14,
     "metadata": {},
     "output_type": "execute_result"
    }
   ],
   "source": [
    "dig_x_train_l1.shape"
   ]
  },
  {
   "cell_type": "code",
   "execution_count": 15,
   "id": "5035b9a3",
   "metadata": {},
   "outputs": [],
   "source": [
    "estimator = RandomForestClassifier(random_state=rs) \n",
    "estimator.fit(dig_x_train_l1, dig_y_train)\n",
    "y_pred = estimator.predict_proba(dig_x_test_l1)"
   ]
  },
  {
   "cell_type": "code",
   "execution_count": 16,
   "id": "f938c29d",
   "metadata": {},
   "outputs": [],
   "source": [
    "features = [ int(feat.replace('x', '')) for feat in selector.get_feature_names_out()]\n",
    "features = pd.DataFrame(pd.Series(features))\n",
    "features.columns=['AGAMAK']\n",
    "features.to_csv('AGAMAK_digits_features.txt', sep='\\t', index=False)"
   ]
  },
  {
   "cell_type": "code",
   "execution_count": 17,
   "id": "a7b5d8d3",
   "metadata": {},
   "outputs": [],
   "source": [
    "probs = pd.DataFrame(pd.DataFrame(y_pred)[1])\n",
    "probs.columns=['AGAMAK']\n",
    "probs.to_csv('AGAMAK_digits_prediction.txt', sep='\\t', index=False)"
   ]
  }
 ],
 "metadata": {
  "interpreter": {
   "hash": "c110ddfe0349c03e3dda4a58a3e1133347ef6d94445494ae811f981f97676945"
  },
  "kernelspec": {
   "display_name": "Python 3.9.7 ('qed')",
   "language": "python",
   "name": "python3"
  },
  "language_info": {
   "codemirror_mode": {
    "name": "ipython",
    "version": 3
   },
   "file_extension": ".py",
   "mimetype": "text/x-python",
   "name": "python",
   "nbconvert_exporter": "python",
   "pygments_lexer": "ipython3",
   "version": "3.9.7"
  }
 },
 "nbformat": 4,
 "nbformat_minor": 5
}
