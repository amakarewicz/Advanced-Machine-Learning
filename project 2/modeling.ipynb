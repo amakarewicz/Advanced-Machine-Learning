{
 "cells": [
  {
   "cell_type": "code",
   "execution_count": 1,
   "id": "042abcb7",
   "metadata": {},
   "outputs": [],
   "source": [
    "import numpy as np\n",
    "import pandas as pd\n",
    "import matplotlib.pyplot as plt\n",
    "import seaborn as sns\n",
    "\n",
    "import sklearn\n",
    "from sklearn.feature_selection import RFE, SequentialFeatureSelector, SelectFromModel\n",
    "from sklearn.svm import SVC, LinearSVC\n",
    "from sklearn.model_selection import StratifiedKFold, GridSearchCV, train_test_split, RandomizedSearchCV\n",
    "from sklearn.feature_selection import RFE, RFECV, VarianceThreshold, SelectFromModel, SequentialFeatureSelector\n",
    "\n",
    "from sklearn.pipeline import Pipeline\n",
    "from sklearn.preprocessing import StandardScaler\n",
    "from sklearn.ensemble import RandomForestClassifier\n",
    "from sklearn.linear_model import LogisticRegression\n",
    "from boruta import BorutaPy\n",
    "from lightgbm import LGBMClassifier\n",
    "from sklearn.metrics import balanced_accuracy_score\n",
    "from tqdm import tqdm\n",
    "import warnings\n",
    "warnings.filterwarnings(\"ignore\")\n",
    "from scipy.stats import loguniform, uniform, randint\n",
    "\n",
    "sns.set_style('whitegrid')\n",
    "sns.set_palette('dark')\n",
    "\n",
    "rs=123"
   ]
  },
  {
   "cell_type": "markdown",
   "id": "36c1ebe2",
   "metadata": {},
   "source": [
    "### Data preparation"
   ]
  },
  {
   "cell_type": "code",
   "execution_count": 2,
   "id": "e54859d4",
   "metadata": {},
   "outputs": [],
   "source": [
    "# loading data\n",
    "\n",
    "# artificial dataset\n",
    "art_x_train = pd.read_csv('./data/artificial_train.data', sep=\" \", header=None)\n",
    "art_x_test = pd.read_csv('./data/artificial_valid.data', sep=\" \", header=None)\n",
    "art_y_train = np.array(pd.read_csv('./data/artificial_train.labels', header=None)[0].tolist())\n",
    "\n",
    "# digits dataset\n",
    "dig_x_train = pd.read_csv('./data/digits_train.data', sep=\" \", header=None)\n",
    "dig_x_test = pd.read_csv('./data/digits_valid.data', sep=\" \", header=None)\n",
    "dig_y_train = np.array(pd.read_csv('./data/digits_train.labels', header=None)[0].tolist())"
   ]
  },
  {
   "cell_type": "code",
   "execution_count": 3,
   "id": "e5e11398",
   "metadata": {},
   "outputs": [],
   "source": [
    "# dropping unnecessary NaN columns\n",
    "art_x_train.drop(columns=art_x_train.columns[-1], axis=1, inplace=True)\n",
    "art_x_test.drop(columns=art_x_test.columns[-1], axis=1, inplace=True)\n",
    "dig_x_train.drop(columns=dig_x_train.columns[-1], axis=1, inplace=True)\n",
    "dig_x_test.drop(columns=dig_x_test.columns[-1], axis=1, inplace=True)"
   ]
  },
  {
   "cell_type": "code",
   "execution_count": 4,
   "id": "7ab58d15",
   "metadata": {},
   "outputs": [
    {
     "data": {
      "text/html": [
       "<div>\n",
       "<style scoped>\n",
       "    .dataframe tbody tr th:only-of-type {\n",
       "        vertical-align: middle;\n",
       "    }\n",
       "\n",
       "    .dataframe tbody tr th {\n",
       "        vertical-align: top;\n",
       "    }\n",
       "\n",
       "    .dataframe thead th {\n",
       "        text-align: right;\n",
       "    }\n",
       "</style>\n",
       "<table border=\"1\" class=\"dataframe\">\n",
       "  <thead>\n",
       "    <tr style=\"text-align: right;\">\n",
       "      <th></th>\n",
       "      <th>0</th>\n",
       "      <th>1</th>\n",
       "      <th>2</th>\n",
       "      <th>3</th>\n",
       "      <th>4</th>\n",
       "      <th>5</th>\n",
       "      <th>6</th>\n",
       "      <th>7</th>\n",
       "      <th>8</th>\n",
       "      <th>9</th>\n",
       "      <th>...</th>\n",
       "      <th>490</th>\n",
       "      <th>491</th>\n",
       "      <th>492</th>\n",
       "      <th>493</th>\n",
       "      <th>494</th>\n",
       "      <th>495</th>\n",
       "      <th>496</th>\n",
       "      <th>497</th>\n",
       "      <th>498</th>\n",
       "      <th>499</th>\n",
       "    </tr>\n",
       "  </thead>\n",
       "  <tbody>\n",
       "    <tr>\n",
       "      <th>0</th>\n",
       "      <td>485</td>\n",
       "      <td>477</td>\n",
       "      <td>537</td>\n",
       "      <td>479</td>\n",
       "      <td>452</td>\n",
       "      <td>471</td>\n",
       "      <td>491</td>\n",
       "      <td>476</td>\n",
       "      <td>475</td>\n",
       "      <td>473</td>\n",
       "      <td>...</td>\n",
       "      <td>477</td>\n",
       "      <td>481</td>\n",
       "      <td>477</td>\n",
       "      <td>485</td>\n",
       "      <td>511</td>\n",
       "      <td>485</td>\n",
       "      <td>481</td>\n",
       "      <td>479</td>\n",
       "      <td>475</td>\n",
       "      <td>496</td>\n",
       "    </tr>\n",
       "    <tr>\n",
       "      <th>1</th>\n",
       "      <td>483</td>\n",
       "      <td>458</td>\n",
       "      <td>460</td>\n",
       "      <td>487</td>\n",
       "      <td>587</td>\n",
       "      <td>475</td>\n",
       "      <td>526</td>\n",
       "      <td>479</td>\n",
       "      <td>485</td>\n",
       "      <td>469</td>\n",
       "      <td>...</td>\n",
       "      <td>463</td>\n",
       "      <td>478</td>\n",
       "      <td>487</td>\n",
       "      <td>338</td>\n",
       "      <td>513</td>\n",
       "      <td>486</td>\n",
       "      <td>483</td>\n",
       "      <td>492</td>\n",
       "      <td>510</td>\n",
       "      <td>517</td>\n",
       "    </tr>\n",
       "    <tr>\n",
       "      <th>2</th>\n",
       "      <td>487</td>\n",
       "      <td>542</td>\n",
       "      <td>499</td>\n",
       "      <td>468</td>\n",
       "      <td>448</td>\n",
       "      <td>471</td>\n",
       "      <td>442</td>\n",
       "      <td>478</td>\n",
       "      <td>480</td>\n",
       "      <td>477</td>\n",
       "      <td>...</td>\n",
       "      <td>487</td>\n",
       "      <td>481</td>\n",
       "      <td>492</td>\n",
       "      <td>650</td>\n",
       "      <td>506</td>\n",
       "      <td>501</td>\n",
       "      <td>480</td>\n",
       "      <td>489</td>\n",
       "      <td>499</td>\n",
       "      <td>498</td>\n",
       "    </tr>\n",
       "    <tr>\n",
       "      <th>3</th>\n",
       "      <td>480</td>\n",
       "      <td>491</td>\n",
       "      <td>510</td>\n",
       "      <td>485</td>\n",
       "      <td>495</td>\n",
       "      <td>472</td>\n",
       "      <td>417</td>\n",
       "      <td>474</td>\n",
       "      <td>502</td>\n",
       "      <td>476</td>\n",
       "      <td>...</td>\n",
       "      <td>491</td>\n",
       "      <td>480</td>\n",
       "      <td>474</td>\n",
       "      <td>572</td>\n",
       "      <td>454</td>\n",
       "      <td>469</td>\n",
       "      <td>475</td>\n",
       "      <td>482</td>\n",
       "      <td>494</td>\n",
       "      <td>461</td>\n",
       "    </tr>\n",
       "    <tr>\n",
       "      <th>4</th>\n",
       "      <td>484</td>\n",
       "      <td>502</td>\n",
       "      <td>528</td>\n",
       "      <td>489</td>\n",
       "      <td>466</td>\n",
       "      <td>481</td>\n",
       "      <td>402</td>\n",
       "      <td>478</td>\n",
       "      <td>487</td>\n",
       "      <td>468</td>\n",
       "      <td>...</td>\n",
       "      <td>488</td>\n",
       "      <td>479</td>\n",
       "      <td>452</td>\n",
       "      <td>435</td>\n",
       "      <td>486</td>\n",
       "      <td>508</td>\n",
       "      <td>481</td>\n",
       "      <td>504</td>\n",
       "      <td>495</td>\n",
       "      <td>511</td>\n",
       "    </tr>\n",
       "  </tbody>\n",
       "</table>\n",
       "<p>5 rows × 500 columns</p>\n",
       "</div>"
      ],
      "text/plain": [
       "   0    1    2    3    4    5    6    7    8    9    ...  490  491  492  493  \\\n",
       "0  485  477  537  479  452  471  491  476  475  473  ...  477  481  477  485   \n",
       "1  483  458  460  487  587  475  526  479  485  469  ...  463  478  487  338   \n",
       "2  487  542  499  468  448  471  442  478  480  477  ...  487  481  492  650   \n",
       "3  480  491  510  485  495  472  417  474  502  476  ...  491  480  474  572   \n",
       "4  484  502  528  489  466  481  402  478  487  468  ...  488  479  452  435   \n",
       "\n",
       "   494  495  496  497  498  499  \n",
       "0  511  485  481  479  475  496  \n",
       "1  513  486  483  492  510  517  \n",
       "2  506  501  480  489  499  498  \n",
       "3  454  469  475  482  494  461  \n",
       "4  486  508  481  504  495  511  \n",
       "\n",
       "[5 rows x 500 columns]"
      ]
     },
     "execution_count": 4,
     "metadata": {},
     "output_type": "execute_result"
    }
   ],
   "source": [
    "# artificial dataset\n",
    "art_x_train.head()"
   ]
  },
  {
   "cell_type": "code",
   "execution_count": 5,
   "id": "79b33766",
   "metadata": {},
   "outputs": [
    {
     "name": "stdout",
     "output_type": "stream",
     "text": [
      "Train:  (2000, 500)\n",
      "Test:  (600, 500)\n"
     ]
    }
   ],
   "source": [
    "# data size\n",
    "print('Train: ' , art_x_train.shape)\n",
    "print('Test: ', art_x_test.shape)"
   ]
  },
  {
   "cell_type": "code",
   "execution_count": 6,
   "id": "74fab2df",
   "metadata": {},
   "outputs": [
    {
     "name": "stdout",
     "output_type": "stream",
     "text": [
      "-1    1000\n",
      " 1    1000\n",
      "dtype: int64\n"
     ]
    },
    {
     "data": {
      "text/plain": [
       "<AxesSubplot:ylabel='count'>"
      ]
     },
     "execution_count": 6,
     "metadata": {},
     "output_type": "execute_result"
    },
    {
     "data": {
      "image/png": "[encoded data removed]",
      "text/plain": [
       "<Figure size 432x288 with 1 Axes>"
      ]
     },
     "metadata": {},
     "output_type": "display_data"
    }
   ],
   "source": [
    "# target distribution\n",
    "print(pd.Series(art_y_train).value_counts())\n",
    "sns.countplot(art_y_train)"
   ]
  },
  {
   "cell_type": "code",
   "execution_count": 7,
   "id": "b7ffeec1",
   "metadata": {},
   "outputs": [
    {
     "data": {
      "text/html": [
       "<div>\n",
       "<style scoped>\n",
       "    .dataframe tbody tr th:only-of-type {\n",
       "        vertical-align: middle;\n",
       "    }\n",
       "\n",
       "    .dataframe tbody tr th {\n",
       "        vertical-align: top;\n",
       "    }\n",
       "\n",
       "    .dataframe thead th {\n",
       "        text-align: right;\n",
       "    }\n",
       "</style>\n",
       "<table border=\"1\" class=\"dataframe\">\n",
       "  <thead>\n",
       "    <tr style=\"text-align: right;\">\n",
       "      <th></th>\n",
       "      <th>0</th>\n",
       "      <th>1</th>\n",
       "      <th>2</th>\n",
       "      <th>3</th>\n",
       "      <th>4</th>\n",
       "      <th>5</th>\n",
       "      <th>6</th>\n",
       "      <th>7</th>\n",
       "      <th>8</th>\n",
       "      <th>9</th>\n",
       "      <th>...</th>\n",
       "      <th>4990</th>\n",
       "      <th>4991</th>\n",
       "      <th>4992</th>\n",
       "      <th>4993</th>\n",
       "      <th>4994</th>\n",
       "      <th>4995</th>\n",
       "      <th>4996</th>\n",
       "      <th>4997</th>\n",
       "      <th>4998</th>\n",
       "      <th>4999</th>\n",
       "    </tr>\n",
       "  </thead>\n",
       "  <tbody>\n",
       "    <tr>\n",
       "      <th>0</th>\n",
       "      <td>550</td>\n",
       "      <td>0</td>\n",
       "      <td>495</td>\n",
       "      <td>0</td>\n",
       "      <td>0</td>\n",
       "      <td>0</td>\n",
       "      <td>0</td>\n",
       "      <td>976</td>\n",
       "      <td>0</td>\n",
       "      <td>0</td>\n",
       "      <td>...</td>\n",
       "      <td>0</td>\n",
       "      <td>0</td>\n",
       "      <td>0</td>\n",
       "      <td>991</td>\n",
       "      <td>991</td>\n",
       "      <td>0</td>\n",
       "      <td>0</td>\n",
       "      <td>0</td>\n",
       "      <td>0</td>\n",
       "      <td>983</td>\n",
       "    </tr>\n",
       "    <tr>\n",
       "      <th>1</th>\n",
       "      <td>0</td>\n",
       "      <td>0</td>\n",
       "      <td>0</td>\n",
       "      <td>0</td>\n",
       "      <td>0</td>\n",
       "      <td>0</td>\n",
       "      <td>0</td>\n",
       "      <td>976</td>\n",
       "      <td>0</td>\n",
       "      <td>0</td>\n",
       "      <td>...</td>\n",
       "      <td>0</td>\n",
       "      <td>475</td>\n",
       "      <td>0</td>\n",
       "      <td>991</td>\n",
       "      <td>0</td>\n",
       "      <td>0</td>\n",
       "      <td>991</td>\n",
       "      <td>0</td>\n",
       "      <td>0</td>\n",
       "      <td>0</td>\n",
       "    </tr>\n",
       "    <tr>\n",
       "      <th>2</th>\n",
       "      <td>0</td>\n",
       "      <td>0</td>\n",
       "      <td>0</td>\n",
       "      <td>0</td>\n",
       "      <td>0</td>\n",
       "      <td>0</td>\n",
       "      <td>0</td>\n",
       "      <td>0</td>\n",
       "      <td>0</td>\n",
       "      <td>0</td>\n",
       "      <td>...</td>\n",
       "      <td>0</td>\n",
       "      <td>0</td>\n",
       "      <td>0</td>\n",
       "      <td>0</td>\n",
       "      <td>0</td>\n",
       "      <td>0</td>\n",
       "      <td>0</td>\n",
       "      <td>0</td>\n",
       "      <td>0</td>\n",
       "      <td>0</td>\n",
       "    </tr>\n",
       "    <tr>\n",
       "      <th>3</th>\n",
       "      <td>0</td>\n",
       "      <td>0</td>\n",
       "      <td>742</td>\n",
       "      <td>0</td>\n",
       "      <td>0</td>\n",
       "      <td>0</td>\n",
       "      <td>0</td>\n",
       "      <td>684</td>\n",
       "      <td>0</td>\n",
       "      <td>956</td>\n",
       "      <td>...</td>\n",
       "      <td>0</td>\n",
       "      <td>0</td>\n",
       "      <td>0</td>\n",
       "      <td>0</td>\n",
       "      <td>0</td>\n",
       "      <td>0</td>\n",
       "      <td>674</td>\n",
       "      <td>0</td>\n",
       "      <td>0</td>\n",
       "      <td>838</td>\n",
       "    </tr>\n",
       "    <tr>\n",
       "      <th>4</th>\n",
       "      <td>0</td>\n",
       "      <td>0</td>\n",
       "      <td>0</td>\n",
       "      <td>0</td>\n",
       "      <td>0</td>\n",
       "      <td>0</td>\n",
       "      <td>0</td>\n",
       "      <td>608</td>\n",
       "      <td>0</td>\n",
       "      <td>979</td>\n",
       "      <td>...</td>\n",
       "      <td>991</td>\n",
       "      <td>0</td>\n",
       "      <td>0</td>\n",
       "      <td>828</td>\n",
       "      <td>0</td>\n",
       "      <td>0</td>\n",
       "      <td>0</td>\n",
       "      <td>0</td>\n",
       "      <td>0</td>\n",
       "      <td>0</td>\n",
       "    </tr>\n",
       "  </tbody>\n",
       "</table>\n",
       "<p>5 rows × 5000 columns</p>\n",
       "</div>"
      ],
      "text/plain": [
       "   0     1     2     3     4     5     6     7     8     9     ...  4990  \\\n",
       "0   550     0   495     0     0     0     0   976     0     0  ...     0   \n",
       "1     0     0     0     0     0     0     0   976     0     0  ...     0   \n",
       "2     0     0     0     0     0     0     0     0     0     0  ...     0   \n",
       "3     0     0   742     0     0     0     0   684     0   956  ...     0   \n",
       "4     0     0     0     0     0     0     0   608     0   979  ...   991   \n",
       "\n",
       "   4991  4992  4993  4994  4995  4996  4997  4998  4999  \n",
       "0     0     0   991   991     0     0     0     0   983  \n",
       "1   475     0   991     0     0   991     0     0     0  \n",
       "2     0     0     0     0     0     0     0     0     0  \n",
       "3     0     0     0     0     0   674     0     0   838  \n",
       "4     0     0   828     0     0     0     0     0     0  \n",
       "\n",
       "[5 rows x 5000 columns]"
      ]
     },
     "execution_count": 7,
     "metadata": {},
     "output_type": "execute_result"
    }
   ],
   "source": [
    "# digits dataset\n",
    "dig_x_train.head()"
   ]
  },
  {
   "cell_type": "code",
   "execution_count": 8,
   "id": "68746f0c",
   "metadata": {},
   "outputs": [
    {
     "name": "stdout",
     "output_type": "stream",
     "text": [
      "Train:  (6000, 5000)\n",
      "Test:  (1000, 5000)\n"
     ]
    }
   ],
   "source": [
    "# data size\n",
    "print('Train: ' , dig_x_train.shape)\n",
    "print('Test: ', dig_x_test.shape)"
   ]
  },
  {
   "cell_type": "code",
   "execution_count": 9,
   "id": "0261c98b",
   "metadata": {},
   "outputs": [
    {
     "name": "stdout",
     "output_type": "stream",
     "text": [
      " 1    3000\n",
      "-1    3000\n",
      "dtype: int64\n"
     ]
    },
    {
     "data": {
      "text/plain": [
       "<AxesSubplot:ylabel='count'>"
      ]
     },
     "execution_count": 9,
     "metadata": {},
     "output_type": "execute_result"
    },
    {
     "data": {
      "image/png": "[encoded data removed]",
      "text/plain": [
       "<Figure size 432x288 with 1 Axes>"
      ]
     },
     "metadata": {},
     "output_type": "display_data"
    }
   ],
   "source": [
    "# target distribution\n",
    "print(pd.Series(dig_y_train).value_counts())\n",
    "sns.countplot(dig_y_train)"
   ]
  },
  {
   "cell_type": "code",
   "execution_count": 10,
   "id": "100f6942",
   "metadata": {},
   "outputs": [],
   "source": [
    "# train-valid split (stratification not needed - target perfectly balanced)\n",
    "art_x_train, art_x_valid, art_y_train, art_y_valid = train_test_split(art_x_train, art_y_train, test_size=0.33, random_state=42)\n",
    "dig_x_train, dig_x_valid, dig_y_train, dig_y_valid = train_test_split(dig_x_train, dig_y_train, test_size=0.33, random_state=42)"
   ]
  },
  {
   "cell_type": "code",
   "execution_count": 11,
   "id": "cf850bab",
   "metadata": {},
   "outputs": [],
   "source": [
    "# crossvalidation\n",
    "skf = StratifiedKFold(n_splits=5, shuffle=True, random_state=1) "
   ]
  },
  {
   "cell_type": "code",
   "execution_count": 12,
   "id": "2c4f1ac8",
   "metadata": {},
   "outputs": [],
   "source": [
    "# scaling - można spróbować innej metody i porównać\n",
    "std = StandardScaler()\n",
    "art_x_train_scaled = std.fit_transform(art_x_train)\n",
    "art_x_valid_scaled = std.transform(art_x_valid)\n",
    "\n",
    "std = StandardScaler()\n",
    "dig_x_train_scaled = std.fit_transform(dig_x_train)\n",
    "dig_x_valid_scaled = std.transform(dig_x_valid)"
   ]
  },
  {
   "cell_type": "markdown",
   "id": "67eacf54",
   "metadata": {},
   "source": [
    "### Recursive Feature Elimination (RFE)"
   ]
  },
  {
   "cell_type": "code",
   "execution_count": 33,
   "id": "7d3aa95f",
   "metadata": {},
   "outputs": [],
   "source": [
    "from sklearn.feature_selection import RFE\n",
    "from sklearn.feature_selection import SelectKBest\n",
    "from sklearn.feature_selection import mutual_info_classif  # alternatywnie: f_regression computes ANOVA f-value\n",
    "k=200\n",
    "num_features=10"
   ]
  },
  {
   "cell_type": "code",
   "execution_count": 34,
   "id": "f835cdc1",
   "metadata": {},
   "outputs": [],
   "source": [
    "# artificial dataset"
   ]
  },
  {
   "cell_type": "code",
   "execution_count": 35,
   "id": "a8290342",
   "metadata": {},
   "outputs": [
    {
     "data": {
      "text/plain": [
       "SelectKBest(k=200,\n",
       "            score_func=<function mutual_info_classif at 0x0000025698CD3A60>)"
      ]
     },
     "execution_count": 35,
     "metadata": {},
     "output_type": "execute_result"
    }
   ],
   "source": [
    "selector = SelectKBest(score_func=mutual_info_classif, k=k)\n",
    "\n",
    "selector.fit(art_x_train_scaled, art_y_train)"
   ]
  },
  {
   "cell_type": "code",
   "execution_count": 36,
   "id": "795b6fcf",
   "metadata": {},
   "outputs": [],
   "source": [
    "art_x_train_kbest = selector.transform(art_x_train_scaled)"
   ]
  },
  {
   "cell_type": "code",
   "execution_count": 37,
   "id": "7dfcda93",
   "metadata": {},
   "outputs": [],
   "source": [
    "art_x_valid_kbest = selector.transform(art_x_valid_scaled)"
   ]
  },
  {
   "cell_type": "code",
   "execution_count": 38,
   "id": "ff2c7443",
   "metadata": {},
   "outputs": [
    {
     "data": {
      "text/plain": [
       "RFE(estimator=RandomForestClassifier(), n_features_to_select=10)"
      ]
     },
     "execution_count": 38,
     "metadata": {},
     "output_type": "execute_result"
    }
   ],
   "source": [
    "clf = RandomForestClassifier()\n",
    "\n",
    "rfe = RFE(clf, n_features_to_select=num_features)\n",
    "\n",
    "rfe.fit(art_x_train_kbest, art_y_train)"
   ]
  },
  {
   "cell_type": "code",
   "execution_count": 39,
   "id": "3d02ec45",
   "metadata": {},
   "outputs": [],
   "source": [
    "art_x_train_rfe = rfe.transform(art_x_train_kbest)"
   ]
  },
  {
   "cell_type": "code",
   "execution_count": 40,
   "id": "de89eb11",
   "metadata": {},
   "outputs": [],
   "source": [
    "art_x_valid_rfe = rfe.transform(art_x_valid_kbest)"
   ]
  },
  {
   "cell_type": "code",
   "execution_count": 41,
   "id": "780a04a0",
   "metadata": {},
   "outputs": [
    {
     "data": {
      "text/plain": [
       "RandomForestClassifier()"
      ]
     },
     "execution_count": 41,
     "metadata": {},
     "output_type": "execute_result"
    }
   ],
   "source": [
    "rf = RandomForestClassifier()\n",
    "rf.fit(art_x_train_rfe, art_y_train)"
   ]
  },
  {
   "cell_type": "code",
   "execution_count": 42,
   "id": "51f7ffba",
   "metadata": {},
   "outputs": [
    {
     "data": {
      "text/plain": [
       "0.886405377607993"
      ]
     },
     "execution_count": 42,
     "metadata": {},
     "output_type": "execute_result"
    }
   ],
   "source": [
    "balanced_accuracy_score(art_y_valid, rf.predict(art_x_valid_rfe))"
   ]
  },
  {
   "cell_type": "code",
   "execution_count": 43,
   "id": "c675d230",
   "metadata": {},
   "outputs": [],
   "source": [
    "# digits"
   ]
  },
  {
   "cell_type": "code",
   "execution_count": 44,
   "id": "bafa630a",
   "metadata": {},
   "outputs": [],
   "source": [
    "k=500\n",
    "num_features=10"
   ]
  },
  {
   "cell_type": "code",
   "execution_count": 45,
   "id": "18975f9c",
   "metadata": {},
   "outputs": [
    {
     "data": {
      "text/plain": [
       "SelectKBest(k=500,\n",
       "            score_func=<function mutual_info_classif at 0x0000025698CD3A60>)"
      ]
     },
     "execution_count": 45,
     "metadata": {},
     "output_type": "execute_result"
    }
   ],
   "source": [
    "selector = SelectKBest(score_func=mutual_info_classif, k=k)\n",
    "\n",
    "selector.fit(dig_x_train_scaled, dig_y_train)"
   ]
  },
  {
   "cell_type": "code",
   "execution_count": 46,
   "id": "63059891",
   "metadata": {},
   "outputs": [],
   "source": [
    "dig_x_train_kbest = selector.transform(dig_x_train_scaled)"
   ]
  },
  {
   "cell_type": "code",
   "execution_count": 47,
   "id": "6f9442e7",
   "metadata": {},
   "outputs": [],
   "source": [
    "dig_x_valid_kbest = selector.transform(dig_x_valid_scaled)"
   ]
  },
  {
   "cell_type": "code",
   "execution_count": 48,
   "id": "12727fdd",
   "metadata": {},
   "outputs": [
    {
     "data": {
      "text/plain": [
       "RFE(estimator=RandomForestClassifier(), n_features_to_select=10)"
      ]
     },
     "execution_count": 48,
     "metadata": {},
     "output_type": "execute_result"
    }
   ],
   "source": [
    "clf = RandomForestClassifier()\n",
    "\n",
    "rfe = RFE(clf, n_features_to_select=num_features)\n",
    "\n",
    "rfe.fit(dig_x_train_kbest, dig_y_train)"
   ]
  },
  {
   "cell_type": "code",
   "execution_count": 49,
   "id": "2938997d",
   "metadata": {},
   "outputs": [],
   "source": [
    "dig_x_train_rfe = rfe.transform(dig_x_train_kbest)"
   ]
  },
  {
   "cell_type": "code",
   "execution_count": 50,
   "id": "1c2f4533",
   "metadata": {},
   "outputs": [],
   "source": [
    "dig_x_valid_rfe = rfe.transform(dig_x_valid_kbest)"
   ]
  },
  {
   "cell_type": "code",
   "execution_count": 51,
   "id": "fd224fa6",
   "metadata": {},
   "outputs": [
    {
     "data": {
      "text/plain": [
       "RandomForestClassifier()"
      ]
     },
     "execution_count": 51,
     "metadata": {},
     "output_type": "execute_result"
    }
   ],
   "source": [
    "rf = RandomForestClassifier()\n",
    "rf.fit(dig_x_train_rfe, dig_y_train)"
   ]
  },
  {
   "cell_type": "code",
   "execution_count": 52,
   "id": "0f7751c0",
   "metadata": {},
   "outputs": [
    {
     "data": {
      "text/plain": [
       "0.9312678309776375"
      ]
     },
     "execution_count": 52,
     "metadata": {},
     "output_type": "execute_result"
    }
   ],
   "source": [
    "balanced_accuracy_score(dig_y_valid, rf.predict(dig_x_valid_rfe))"
   ]
  },
  {
   "cell_type": "markdown",
   "id": "8c48ca4e",
   "metadata": {},
   "source": [
    "### Boruta"
   ]
  },
  {
   "cell_type": "code",
   "execution_count": null,
   "id": "fb8c6051",
   "metadata": {},
   "outputs": [],
   "source": [
    "# artificial"
   ]
  },
  {
   "cell_type": "code",
   "execution_count": null,
   "id": "d9c78c0d",
   "metadata": {},
   "outputs": [],
   "source": [
    "rf = RandomForestClassifier(class_weight='balanced', max_depth=5) # z dokumentacji, można się pobawić moze coś zmieni\n",
    "rf.fit(art_x_train_scaled, art_y_train)"
   ]
  },
  {
   "cell_type": "code",
   "execution_count": null,
   "id": "a098d2f3",
   "metadata": {
    "scrolled": true
   },
   "outputs": [],
   "source": [
    "# define Boruta feature selection method\n",
    "feat_selector = BorutaPy(rf, n_estimators='auto', verbose=2, random_state=1)\n",
    "# patrząc na output - zmniejszenie max_iter (default 100) moze powodować wybranie mniejszej ilości zmiennych\n",
    "# można też podać konkretna liczbe zmiennych która chcemy\n",
    "\n",
    "# find all relevant features\n",
    "feat_selector.fit(np.array(art_x_train_scaled), art_y_train)"
   ]
  },
  {
   "cell_type": "code",
   "execution_count": null,
   "id": "db4c626a",
   "metadata": {},
   "outputs": [],
   "source": [
    "# check selected features\n",
    "feat_selector.support_"
   ]
  },
  {
   "cell_type": "code",
   "execution_count": null,
   "id": "9afcdac7",
   "metadata": {},
   "outputs": [],
   "source": [
    "# check ranking of features\n",
    "feat_selector.ranking_"
   ]
  },
  {
   "cell_type": "code",
   "execution_count": null,
   "id": "52bc0dd1",
   "metadata": {},
   "outputs": [],
   "source": [
    "art_x_train_boruta = feat_selector.transform(np.array(art_x_train_scaled))\n",
    "art_x_valid_boruta = feat_selector.transform(np.array(art_x_valid_scaled))"
   ]
  },
  {
   "cell_type": "code",
   "execution_count": null,
   "id": "456b2c6f",
   "metadata": {
    "scrolled": false
   },
   "outputs": [],
   "source": [
    "rf = RandomForestClassifier() # moze próbowac grida zeby polepszyć\n",
    "rf.fit(art_x_train_boruta, art_y_train)"
   ]
  },
  {
   "cell_type": "code",
   "execution_count": null,
   "id": "61d3b6a8",
   "metadata": {},
   "outputs": [],
   "source": [
    "balanced_accuracy_score(art_y_valid, rf.predict(art_x_valid_boruta))"
   ]
  },
  {
   "cell_type": "code",
   "execution_count": null,
   "id": "7815f624",
   "metadata": {},
   "outputs": [],
   "source": [
    "# digital - w pizde długo sie liczy xD na moim lapku niecałe 2h 3 iteracje, na serwerze nie miałam jak odpalic ani na słuzbowym\n",
    "# moge walczyc po powrocie"
   ]
  },
  {
   "cell_type": "code",
   "execution_count": null,
   "id": "d04867fc",
   "metadata": {},
   "outputs": [],
   "source": [
    "rf = RandomForestClassifier(class_weight='balanced', max_depth=5) # z dokumentacji, można się pobawić moze coś zmieni\n",
    "rf.fit(dig_x_train_scaled, dig_y_train)"
   ]
  },
  {
   "cell_type": "code",
   "execution_count": null,
   "id": "8950a46e",
   "metadata": {
    "scrolled": true
   },
   "outputs": [],
   "source": [
    "# define Boruta feature selection method\n",
    "feat_selector = BorutaPy(rf, n_estimators='auto', verbose=2, random_state=1)\n",
    "# patrząc na output - zmniejszenie max_iter (default 100) moze powodować wybranie mniejszej ilości zmiennych\n",
    "# można też podać konkretna liczbe zmiennych która chcemy\n",
    "\n",
    "# # find all relevant features\n",
    "feat_selector.fit(np.array(dig_x_train_scaled), dig_y_train)"
   ]
  },
  {
   "cell_type": "code",
   "execution_count": null,
   "id": "26c54fdd",
   "metadata": {},
   "outputs": [],
   "source": [
    "dig_x_train_boruta = feat_selector.transform(np.array(dig_x_train_scaled))\n",
    "dig_x_valid_boruta = feat_selector.transform(np.array(dig_x_valid_scaled))"
   ]
  },
  {
   "cell_type": "code",
   "execution_count": null,
   "id": "4e3f3074",
   "metadata": {},
   "outputs": [],
   "source": [
    "rf = RandomForestClassifier()\n",
    "rf.fit(dig_x_train_boruta, dig_y_train)"
   ]
  },
  {
   "cell_type": "code",
   "execution_count": null,
   "id": "f5b7133b",
   "metadata": {},
   "outputs": [],
   "source": [
    "balanced_accuracy_score(dig_y_valid, rf.predict(dig_x_valid_boruta))"
   ]
  },
  {
   "cell_type": "markdown",
   "id": "b1842d3a",
   "metadata": {},
   "source": [
    "### L1"
   ]
  },
  {
   "cell_type": "code",
   "execution_count": null,
   "id": "fbb994de",
   "metadata": {},
   "outputs": [],
   "source": [
    "scores = []\n",
    "n_of_features = []\n",
    "cs = np.arange(0.01, 5.01, 0.01)\n",
    "for c in tqdm(cs):\n",
    "    selector = SelectFromModel(LinearSVC(C=c, penalty=\"l1\", dual=False, random_state=rs).fit(art_x_train_scaled, art_y_train), prefit=True)\n",
    "    art_x_train_l1 = selector.transform(art_x_train_scaled)\n",
    "    art_x_valid_l1 = selector.transform(art_x_valid_scaled)\n",
    "    estimator = RandomForestClassifier(random_state=rs) \n",
    "    estimator.fit(art_x_train_l1, art_y_train)\n",
    "    y_pred = estimator.predict(art_x_valid_l1)\n",
    "    n_of_features.append(art_x_train_l1.shape[1])\n",
    "    scores.append(balanced_accuracy_score(art_y_valid, y_pred))"
   ]
  },
  {
   "cell_type": "code",
   "execution_count": null,
   "id": "c3709f4a",
   "metadata": {},
   "outputs": [],
   "source": [
    "plt.figure(figsize=(18,6))\n",
    "sns.lineplot(x=cs, y=scores) # no słabo to działa xD"
   ]
  },
  {
   "cell_type": "code",
   "execution_count": null,
   "id": "1b20fb20",
   "metadata": {},
   "outputs": [],
   "source": [
    "# selecting only best scores for detailed analysis\n",
    "ids_best = [i for i, elem in enumerate(scores) if elem > 0.68]\n",
    "scores_best = [round(elem, 5) for i, elem in enumerate(scores) if i in ids_best]\n",
    "n_of_features_best = [int(elem) for i, elem in enumerate(n_of_features) if i in ids_best]\n",
    "cs_best = [elem for i, elem in enumerate(cs) if i in ids_best]\n",
    "best_results = pd.DataFrame([cs_best, n_of_features_best, scores_best], index = ['C', 'No. of features', 'Balanced accuracy']).T\n",
    "best_results = best_results.sort_values('No. of features').reset_index(drop=True)\n",
    "best_results.style.background_gradient(cmap=\"Blues\", axis=0) "
   ]
  },
  {
   "cell_type": "code",
   "execution_count": null,
   "id": "54b058f9",
   "metadata": {},
   "outputs": [],
   "source": [
    "# powtórzyć dla digits"
   ]
  },
  {
   "cell_type": "code",
   "execution_count": null,
   "id": "02e09e63",
   "metadata": {
    "scrolled": true
   },
   "outputs": [],
   "source": [
    "scores = []\n",
    "n_of_features = []\n",
    "cs = np.arange(0.01, 5.01, 0.05)\n",
    "for c in tqdm(cs):\n",
    "    selector = SelectFromModel(LinearSVC(C=c, penalty=\"l1\", dual=False, random_state=rs).fit(dig_x_train_scaled, dig_y_train), prefit=True)\n",
    "    dig_x_train_l1 = selector.transform(dig_x_train_scaled)\n",
    "    dig_x_valid_l1 = selector.transform(dig_x_valid_scaled)\n",
    "    estimator = RandomForestClassifier(random_state=rs) \n",
    "    estimator.fit(dig_x_train_l1, dig_y_train)\n",
    "    y_pred = estimator.predict(dig_x_valid_l1)\n",
    "    n_of_features.append(dig_x_train_l1.shape[1])\n",
    "    scores.append(balanced_accuracy_score(dig_y_valid, y_pred))"
   ]
  },
  {
   "cell_type": "code",
   "execution_count": null,
   "id": "43f3af22",
   "metadata": {},
   "outputs": [],
   "source": [
    "plt.figure(figsize=(18,6))\n",
    "sns.lineplot(x=cs, y=scores) # no słabo to działa xD"
   ]
  },
  {
   "cell_type": "markdown",
   "id": "8074ed5a",
   "metadata": {},
   "source": [
    "### RFECV"
   ]
  },
  {
   "cell_type": "code",
   "execution_count": null,
   "id": "4bc3c6f7",
   "metadata": {},
   "outputs": [],
   "source": [
    "# artificial"
   ]
  },
  {
   "cell_type": "code",
   "execution_count": null,
   "id": "b8a0b272",
   "metadata": {},
   "outputs": [],
   "source": [
    "rf = RandomForestClassifier(random_state=rs)\n",
    "rfecv = RFECV(rf, step=1, cv=skf, scoring='balanced_accuracy')\n",
    "rfecv = rfecv.fit(art_x_train_scaled, art_y_train)"
   ]
  },
  {
   "cell_type": "code",
   "execution_count": null,
   "id": "27acae36",
   "metadata": {},
   "outputs": [],
   "source": [
    "rfecv.transform(art_x_train_scaled).shape[1] # number of selected features"
   ]
  },
  {
   "cell_type": "code",
   "execution_count": null,
   "id": "72ee0755",
   "metadata": {},
   "outputs": [],
   "source": [
    "y_pred = rfecv.predict(art_x_valid_scaled)\n",
    "balanced_accuracy_score(art_y_valid, y_pred)"
   ]
  },
  {
   "cell_type": "code",
   "execution_count": null,
   "id": "8e27eaff",
   "metadata": {},
   "outputs": [],
   "source": [
    "# digits"
   ]
  },
  {
   "cell_type": "code",
   "execution_count": null,
   "id": "6f374007",
   "metadata": {},
   "outputs": [],
   "source": [
    "rf = RandomForestClassifier(random_state=rs)\n",
    "rfecv = RFECV(rf, step=1, cv=skf, scoring='balanced_accuracy')\n",
    "rfecv = rfecv.fit(dig_x_train_scaled, dig_y_train)"
   ]
  },
  {
   "cell_type": "code",
   "execution_count": null,
   "id": "c443f983",
   "metadata": {},
   "outputs": [],
   "source": [
    "rfecv.transform(dig_x_train_scaled).shape[1] # number of selected features"
   ]
  },
  {
   "cell_type": "code",
   "execution_count": null,
   "id": "d1e1ac28",
   "metadata": {},
   "outputs": [],
   "source": [
    "y_pred = rfecv.predict(dig_x_valid_scaled)\n",
    "balanced_accuracy_score(dig_y_valid, y_pred)"
   ]
  },
  {
   "cell_type": "code",
   "execution_count": null,
   "id": "0bd5aab9",
   "metadata": {},
   "outputs": [],
   "source": []
  },
  {
   "cell_type": "code",
   "execution_count": null,
   "id": "05be1750",
   "metadata": {},
   "outputs": [],
   "source": []
  },
  {
   "cell_type": "code",
   "execution_count": null,
   "id": "bab47a22",
   "metadata": {},
   "outputs": [],
   "source": []
  },
  {
   "cell_type": "code",
   "execution_count": null,
   "id": "75e510ed",
   "metadata": {},
   "outputs": [],
   "source": []
  },
  {
   "cell_type": "code",
   "execution_count": null,
   "id": "4590b296",
   "metadata": {},
   "outputs": [],
   "source": [
    "##### poniżej - jakieś próbowane rzeczy, może się przyda docelowo\n",
    "# grid search dla svmki \n",
    "# grid search dla lgbm"
   ]
  },
  {
   "cell_type": "code",
   "execution_count": null,
   "id": "21aee522",
   "metadata": {
    "scrolled": true
   },
   "outputs": [],
   "source": [
    "# SVM \n",
    "#model\n",
    "model = Pipeline([('standardscaler', StandardScaler()), # to do wywalenia jeśli byśmy miały używać bo dane już zeskalowane\n",
    "                  ('model', SVC())])\n",
    "\n",
    "grid = [{\n",
    "    'model__kernel': ['poly', 'sigmoid', 'rbf'],\n",
    "    'model__C' : [1000, 500, 200, 100, 50, 10, 1.0, 0.1, 0.01],\n",
    "    'model__gamma' : [1, 0.1, 0.01, 0.001, 0.0001]    \n",
    "}]\n",
    "\n",
    "gs = GridSearchCV(model,\n",
    "                  param_grid=grid, \n",
    "                  scoring= 'balanced_accuracy', \n",
    "                  refit='balanced_accuracy', \n",
    "                  cv=skf, \n",
    "                  verbose=2)\n",
    "gs.fit(art_x_train, art_y_train) # zmiana na _scaled"
   ]
  },
  {
   "cell_type": "code",
   "execution_count": null,
   "id": "bfe29d5c",
   "metadata": {
    "scrolled": true
   },
   "outputs": [],
   "source": [
    "gs.best_params_"
   ]
  },
  {
   "cell_type": "code",
   "execution_count": null,
   "id": "eca0064b",
   "metadata": {},
   "outputs": [],
   "source": [
    "model = Pipeline([('standardscaler', StandardScaler()), # taki sam komentarz jak w grid searchu\n",
    "                  ('model', SVC())])\n",
    "model.set_params(**gs.best_params_)\n",
    "model.fit(art_x_train, art_y_train) # _scaled\n",
    "np.mean(art_y_valid == model.predict(art_x_valid)) # _scaled"
   ]
  },
  {
   "cell_type": "code",
   "execution_count": null,
   "id": "3da13328",
   "metadata": {
    "scrolled": true
   },
   "outputs": [],
   "source": [
    "# LGBM\n",
    "space = dict()\n",
    "space['num_trees'] = randint(500,1500)\n",
    "space['num_leaves'] = randint(5,40)\n",
    "space['learning_rate'] = loguniform(0.01, 1)\n",
    "space['boosting'] = ['gbdt', 'rf', 'dart', 'goss']\n",
    "space['tree_learner'] = ['serial', 'feature', 'data', 'voting']\n",
    "\n",
    "lgbm_clf = LGBMClassifier(objective='binary')\n",
    "\n",
    "lgbm = RandomizedSearchCV(lgbm_clf,\n",
    "                    space,\n",
    "                    scoring='balanced_accuracy',\n",
    "                    cv=skf,\n",
    "                    n_iter=100,\n",
    "                    refit=True,\n",
    "                    random_state=1,\n",
    "                    verbose=2)\n",
    "\n",
    "lgbm.fit(art_x_train_boruta, art_y_train) \n",
    "lgbm_clf = LGBMClassifier(objective='binary')\n",
    "lgbm_clf.set_params(**lgbm.best_params_)\n",
    "lgbm_clf.fit(art_x_train_boruta, art_y_train)"
   ]
  },
  {
   "cell_type": "code",
   "execution_count": null,
   "id": "31aff420",
   "metadata": {
    "scrolled": true
   },
   "outputs": [],
   "source": [
    "balanced_accuracy_score(art_y_valid, lgbm_clf.predict(art_x_valid_boruta))"
   ]
  },
  {
   "cell_type": "code",
   "execution_count": null,
   "id": "746fb54d",
   "metadata": {},
   "outputs": [],
   "source": [
    "# przykład pipeline'a od razu z selekcja\n",
    "clf = Pipeline([\n",
    "  ('feature_selection', SelectFromModel(LogisticRegression())),\n",
    "  ('classification', RandomForestClassifier())\n",
    "])\n",
    "clf.fit(art_x_train, art_y_train)"
   ]
  }
 ],
 "metadata": {
  "kernelspec": {
   "display_name": "Python 3 (ipykernel)",
   "language": "python",
   "name": "python3"
  },
  "language_info": {
   "codemirror_mode": {
    "name": "ipython",
    "version": 3
   },
   "file_extension": ".py",
   "mimetype": "text/x-python",
   "name": "python",
   "nbconvert_exporter": "python",
   "pygments_lexer": "ipython3",
   "version": "3.9.7"
  }
 },
 "nbformat": 4,
 "nbformat_minor": 5
}
