{
 "cells": [
  {
   "cell_type": "markdown",
   "id": "889107a6",
   "metadata": {},
   "source": [
    "# Project 1\n",
    "\n",
    "*Elżbieta Jowik* <br>\n",
    "*Agata Makarewicz*"
   ]
  },
  {
   "cell_type": "code",
   "execution_count": 4,
   "id": "4542708b",
   "metadata": {},
   "outputs": [],
   "source": [
    "# imports \n",
    "import numpy as np\n",
    "import pandas as pd\n",
    "import matplotlib.pyplot as plt\n",
    "import seaborn as sns\n",
    "from sklearn.model_selection import train_test_split\n",
    "from sklearn.impute import SimpleImputer\n",
    "from sklearn.preprocessing import StandardScaler, OrdinalEncoder, OneHotEncoder\n",
    "from sklearn.compose import ColumnTransformer\n",
    "from sklearn.pipeline import Pipeline\n",
    "from sklearn.metrics import accuracy_score, precision_score, recall_score, f1_score\n",
    "\n",
    "import warnings\n",
    "warnings.filterwarnings(action='ignore')\n",
    "\n",
    "pd.options.display.max_columns = None\n",
    "plt.rcParams['figure.figsize'] = (9, 6)"
   ]
  },
  {
   "cell_type": "code",
   "execution_count": 5,
   "id": "0fd65462",
   "metadata": {},
   "outputs": [],
   "source": [
    "# functions\n",
    "def evaluate_classification(true, pred):\n",
    "    Accuracy = accuracy_score(true, pred)\n",
    "    Precision = precision_score(true, pred)\n",
    "    Recall = recall_score(true, pred)\n",
    "    F1_score = f1_score(true, pred)\n",
    "    \n",
    "    results = pd.DataFrame(np.array([Accuracy, Precision, Recall, F1_score]))\n",
    "    results.index = ['Accuracy', 'Precision', 'Recall', 'F1_score']\n",
    "    return results\n",
    "\n",
    "# target_names = list(np.unique(data_target))\n",
    "\n",
    "# def evaluate_metrics(true, pred):\n",
    "#     Precision = precision_score(true, pred, average = None)\n",
    "#     Recall = recall_score(true, pred, average = None)\n",
    "#     F1_score = f1_score(true, pred, average = None)\n",
    "#     F_beta = fbeta_score(true, pred, average = None,beta=2)\n",
    "    \n",
    "#     results = pd.DataFrame(np.array([Precision,Recall,F1_score,F_beta]))\n",
    "#     results.index = ['Precision','Recall','F1_score','F_beta']\n",
    "#     results.columns = target_names\n",
    "#     f1 = f1_score(true, pred, average='weighted')\n",
    "#     return results, f1"
   ]
  },
  {
   "cell_type": "code",
   "execution_count": 16,
   "id": "ef7326cf",
   "metadata": {},
   "outputs": [],
   "source": [
    "# reading preprocessed datasets\n",
    "data_adult_train = pd.read_csv('datasets/project1/preprocessed/adult_train_x.csv')\n",
    "data_adult_test = pd.read_csv('datasets/project1/preprocessed/adult_test_x.csv')\n",
    "\n",
    "data_credit_train = pd.read_csv('datasets/project1/preprocessed/credit_train_x.csv')\n",
    "data_credit_test = pd.read_csv('datasets/project1/preprocessed/credit_test_x.csv')\n",
    "\n",
    "data_sick_train = pd.read_csv('datasets/project1/preprocessed/sick_train_x.csv')\n",
    "data_sick_test = pd.read_csv('datasets/project1/preprocessed/sick_test_x.csv')\n",
    "\n",
    "data_titanic_train = pd.read_csv('datasets/project1/preprocessed/titanic_train_x.csv')\n",
    "data_titanic_test = pd.read_csv('datasets/project1/preprocessed/titanic_test_x.csv')"
   ]
  },
  {
   "cell_type": "code",
   "execution_count": 17,
   "id": "cf15acc4",
   "metadata": {},
   "outputs": [],
   "source": [
    "# reading preprocessed datasets\n",
    "target_adult_train = pd.read_csv('datasets/project1/preprocessed/adult_train_y.csv')\n",
    "target_adult_test = pd.read_csv('datasets/project1/preprocessed/adult_test_y.csv')\n",
    "\n",
    "target_credit_train = pd.read_csv('datasets/project1/preprocessed/credit_train_y.csv')\n",
    "target_credit_test = pd.read_csv('datasets/project1/preprocessed/credit_test_y.csv')\n",
    "\n",
    "target_sick_train = pd.read_csv('datasets/project1/preprocessed/sick_train_y.csv')\n",
    "target_sick_test = pd.read_csv('datasets/project1/preprocessed/sick_test_y.csv')\n",
    "\n",
    "target_titanic_train = pd.read_csv('datasets/project1/preprocessed/titanic_train_y.csv')\n",
    "target_titanic_test = pd.read_csv('datasets/project1/preprocessed/titanic_test_y.csv')"
   ]
  },
  {
   "cell_type": "code",
   "execution_count": 11,
   "id": "c7f02cdb",
   "metadata": {},
   "outputs": [],
   "source": [
    "def accuracy_metric(true, pred):\n",
    "    correct = 0\n",
    "    for i in range(len(true)):\n",
    "        if true[i] == pred[i]:\n",
    "            correct += 1\n",
    "    return correct / float(len(true))\n",
    "\n",
    "#def precision_metric(true, pred):\n",
    "    "
   ]
  },
  {
   "cell_type": "code",
   "execution_count": null,
   "id": "33b18a34",
   "metadata": {},
   "outputs": [],
   "source": [
    "# accuracy, recall, precision, F measure"
   ]
  },
  {
   "cell_type": "code",
   "execution_count": null,
   "id": "e4ef2689",
   "metadata": {},
   "outputs": [],
   "source": [
    "# logistic regression with gradient descent"
   ]
  },
  {
   "cell_type": "code",
   "execution_count": null,
   "id": "11bb7371",
   "metadata": {},
   "outputs": [],
   "source": [
    "def predict(row, coeffs):\n",
    "    pred = coeffs[0]\n",
    "    for i in range(len(row)-1):\n",
    "        pred += coeffs[i + 1] * row[i]\n",
    "    return 1.0 / (1.0 + exp(-pred))\n",
    "\n",
    "#def iwls_optimizer():\n",
    "    \n",
    "\n",
    "def gd_optimizer():\n",
    "    \n",
    "    \n",
    "def sgd_optimizer(X_train, learning_rate, n_epochs):\n",
    "    coeffs = [0.0 for i in range(len(X_train[0]))]\n",
    "    for epoch in range(n_epochs):\n",
    "        sum_of_errors = 0\n",
    "        for row in X_train:\n",
    "            pred = predict(row, coeffs)\n",
    "            error = row[-1] - pred\n",
    "            sum_of_errors += error**2\n",
    "            coeffs[0] = coeffs[0] + learning_rate * error * pred * (1.0 - pred)\n",
    "            for i in range(len(row)-1):\n",
    "                coeffs[i + 1] = coeffs[i + 1] + learning_rate * error * pred * (1.0 - pred) * row[i]\n",
    "        print('>epoch=%d, lrate=%.3f, error=%.3f' % (epoch, learning_rate, sum_of_errors))\n",
    "    return coeffs\n",
    "    \n",
    "#def adam_optimizer():"
   ]
  }
 ],
 "metadata": {
  "kernelspec": {
   "display_name": "Python 3 (ipykernel)",
   "language": "python",
   "name": "python3"
  },
  "language_info": {
   "codemirror_mode": {
    "name": "ipython",
    "version": 3
   },
   "file_extension": ".py",
   "mimetype": "text/x-python",
   "name": "python",
   "nbconvert_exporter": "python",
   "pygments_lexer": "ipython3",
   "version": "3.9.7"
  }
 },
 "nbformat": 4,
 "nbformat_minor": 5
}
